{
 "cells": [
  {
   "cell_type": "code",
   "execution_count": 1,
   "id": "84fa8955-1ad6-45ad-9df8-38ed830b3db0",
   "metadata": {
    "scrolled": true
   },
   "outputs": [],
   "source": [
    "import fire\n",
    "import torch\n",
    "from llama_cpp import Llama\n",
    "import os\n",
    "from docx import Document\n",
    "from tqdm.auto import tqdm\n",
    "import pandas as pd\n",
    "import ast"
   ]
  },
  {
   "cell_type": "code",
   "execution_count": 2,
   "id": "8ad2c050-7348-404b-84b4-70bc1a5f2fb2",
   "metadata": {},
   "outputs": [],
   "source": [
    "import fire\n",
    "import torch\n",
    "from llama_cpp import Llama\n",
    "import os\n",
    "from docx import Document\n",
    "from tqdm.auto import tqdm\n",
    "import pandas as pd\n",
    "import ast\n",
    "\n",
    "\n",
    "# 0,77\n",
    "SYSTEM_PROMPT = \"\"\"\n",
    "You are a language model tasked with evaluating how closely a technical specifications document (SSTS) aligns with a requirements document (UC). The input format is:\n",
    "\n",
    "UC: {scenario requirements content}\n",
    "SSTS: {technical specifications for implementation}\n",
    "\n",
    "Definitions:\n",
    "\n",
    "    UC: The requirements document detailing the system’s scenario requirements, including preconditions, main scenarios, postconditions, and alternative scenarios.\n",
    "    SSTS: The technical document outlining the system’s functionality in a structured textual description.\n",
    "\n",
    "Your task is to compare SSTS against UC and assess compliance based on the following criteria. Provide your response only in the specified dictionary format, with no introductory or closing text. Use these keys:\n",
    "\n",
    "    Name: Extract and include the name of the UC document.\n",
    "\n",
    "    Differences: Highlight key mismatches or omissions in SSTS relative to UC, focusing on:\n",
    "        - Missing or different output devices.\n",
    "        - Discrepancies in user interaction elements, like control methods or UI components.\n",
    "        - Missing functional details such as status displays, error handling, or audio requirements.\n",
    "    Compliance Level: Indicate the compliance level of SSTS with UC using one of these codes:\n",
    "    \n",
    "    **FC - Fully Compliant**  \n",
    "    The SSTS document fully aligns with all functional requirements in the UC document, with no missing components or deviations. Every requirement, scenario, and interaction outlined in UC is addressed in the SSTS document with precise alignment. Use this rating only if the SSTS document provides complete and exact coverage of UC requirements, meaning that no revisions are necessary.\n",
    "    \n",
    "    **LC - Largely Compliant**\n",
    "\n",
    "    The SSTS document meets **most** of the functional requirements outlined in the UC document. However, there are **minor deviations** that do not substantially impact the core functionality, usability, or effectiveness of the system. These deviations are typically related to **small differences in descriptions, wording, or non-essential elements**. The key features and requirements defined in the UC document are largely represented in the SSTS, but the implementation may include **slight inconsistencies** or **missing clarifications** in specific areas.\n",
    "    \n",
    "    ### When to use **LC**:\n",
    "    - **Minor inconsistencies**: For example, the SSTS might describe the same functionality as in the UC but with slight wording or detail differences that do not affect the overall outcome.\n",
    "    - **Non-critical details**: Certain optional elements, like UI components, specific error handling behaviors, or output devices, might not be perfectly aligned with the UC but are not essential to the system’s core operations.\n",
    "    - **Minor omissions**: Some non-critical requirements, such as specific display formats or additional user interactions, may be omitted or underdefined in the SSTS but do not significantly impact the user experience or system function.\n",
    "    \n",
    "    ### Examples of deviations that justify **LC**:\n",
    "    - A **UI control** might be described in the UC as a dropdown menu, while in the SSTS, it could be described as a simple text field—still functional, but not identical.\n",
    "    - **Minor output differences**, such as using “mobile speakers” instead of “vehicle speakers”, which do not change the fundamental interaction but could require minor clarification or adjustment.\n",
    "    - A **slightly different control method** for user interaction, such as replacing a manual button with a voice command for the same task.\n",
    "    \n",
    "    ### Recommended Actions:\n",
    "    The SSTS document does **not** require a complete overhaul but would benefit from **minor refinements**. These may include:\n",
    "    - Clarifying language or descriptions for greater alignment with UC.\n",
    "    - Adding or refining optional features, UI elements, or error-handling mechanisms.\n",
    "    - Minor adjustments to output devices or interaction methods to fully match the UC specification.\n",
    "\n",
    "    **PC - Partially Compliant**  \n",
    "    The SSTS document addresses some of the UC requirements but has notable gaps or deviations that could affect intended functionality or usability. These gaps may include missing functional elements, major differences in interaction design, or unaddressed scenarios that are critical to UC. Use this rating if the SSTS covers certain functionalities but falls short on others, requiring specific revisions to achieve alignment with the UC document.\n",
    "    \n",
    "    **NC - Non-Compliant**\n",
    "\n",
    "    The SSTS document **fails to align** with the key functional requirements of the UC document, exhibiting **significant deviations** in areas critical to the system’s performance or usability. These misalignments can include the absence of foundational functional elements, major differences in interaction design, or completely unaddressed scenarios that are essential for meeting UC requirements. The SSTS document, in its current form, **lacks the necessary depth and accuracy** to fulfill the core expectations of the UC and would require **extensive revisions** to meet the outlined specifications.\n",
    "    \n",
    "    ### When to use **NC**:\n",
    "    - **Major functional omissions**: If the SSTS document is missing critical functional requirements, such as the inability to support basic user interactions or scenarios that are defined in the UC.\n",
    "    - **Severe interaction misalignments**: For instance, if the interaction design in the SSTS deviates significantly from the UC document, such as drastically different workflows or unaddressed user behavior scenarios.\n",
    "    - **Unaddressed UC requirements**: If certain core features or requirements outlined in the UC are completely absent or inaccurately represented in the SSTS, causing the system to fail in fulfilling the expected functions.\n",
    "    \n",
    "    ### Examples of deviations that justify **NC**:\n",
    "    - **Missing core functionality**: A system feature described in the UC, such as an essential user authentication process or data validation step, is entirely absent or inaccurately described in the SSTS.\n",
    "    - **Incorrect interaction design**: The UC specifies a multi-step process for user input, but the SSTS describes a completely different or overly simplified flow that would break user expectations or reduce usability.\n",
    "    - **Incomplete error handling**: The UC defines specific error scenarios and recovery processes, but the SSTS either omits these completely or includes incorrect solutions that fail to resolve critical issues in practice.\n",
    "    \n",
    "    ### Recommended Actions:\n",
    "    The SSTS document requires **substantial revisions** to align with the UC. Key areas for improvement include:\n",
    "    - **Addressing missing functionality**: Ensuring that all functional elements and user interaction scenarios defined in the UC are included and accurately described.\n",
    "    - **Revising interaction flows**: Updating the interaction designs to reflect the UC specifications, ensuring that the user experience aligns with UC expectations.\n",
    "    - **Improving error handling**: Ensuring that error scenarios and recovery methods are fully defined and consistent with the UC, preventing critical system failures.\n",
    "      \n",
    "    In summary, **NC** indicates that the SSTS is significantly misaligned with the UC and cannot be considered compliant without major revisions. It is a signal that foundational changes are necessary to bring the two documents into alignment.\n",
    "\n",
    "    **NA - Not Applicable**  \n",
    "    The SSTS and UC documents are fundamentally incomparable due to a clear difference in purpose, scope, or content. This rating should be used only if it is evident that the UC requirements are outside the scope or relevance of the SSTS document. When applying this rating, provide a brief explanation of why a comparison is not feasible.\n",
    "    \n",
    "    Be sure to assess the SSTS against UC based on the descriptions of requirements, scenarios, devices, interactions, outputs, error handling, and any other relevant details. The compliance level should reflect the overall alignment of the documents in terms of both completeness and accuracy.\n",
    "\n",
    "Return your response *only* in the following dictionary format, with no additional text:\n",
    "\n",
    "```{\n",
    "    \"Name\": \"name of the UC document\",\n",
    "    \"Differences\": \"Summary of key differences here\",\n",
    "    \"Description\": \"UC - Key requirements from the interface scenario, SSTS - Description of corresponding content in the technical document\",\n",
    "    \"Compliance Level\": \"FC, LC, PC, NC, or NA\"\n",
    "}```\n",
    "\n",
    "Example format:\n",
    "\n",
    "```{\n",
    "    \"Name\": \"UC Example Document\",\n",
    "    \"Differences\": \"Summary of key differences between SSTS and UC\",\n",
    "    \"Description\": \"UC - Key requirements missing from the technical document, SSTS - Relevant technical document details\",\n",
    "    \"Compliance Level\": \"FC\"\n",
    "}```\"\"\"\n",
    "\n",
    "\n",
    "SYSTEM_PROMPT_UC = \"\"\"\n",
    "Create an HMI (Human-Machine Interface) specification document based on the provided textual description, detailing requirements for the system interaction scenario. The document should include the following sections:\n",
    "\n",
    "1. **Preconditions**: Describe the conditions or system states that must be met or activated before the scenario begins.\n",
    "2. **Main Scenario**: Provide a detailed description of the primary steps the user takes to achieve their goal, including the exact sequence of actions and the system's expected responses.\n",
    "3. **Postconditions**: Define the expected result of the scenario, including the system's state and any anticipated changes.\n",
    "4. **Alternative Scenarios**: Describe any possible variations from the main scenario, such as errors or non-standard user actions, and specify how the system should respond to them.\n",
    "\n",
    "The final document should have a clear and complete structure, allowing for a thorough understanding of all aspects of user-system interaction and accounting for any potential deviations from the main flow.\n",
    "\"\"\"\n",
    "\n",
    "SYSTEM_PROMPT_SSTS = \"\"\"\n",
    "Create an STS (System Technical Specification) document that provides a structured textual description of the functionality of each system block. The document should include the following sections:\n",
    "\n",
    "1. **Block Overview**: Provide a summary of the block's purpose and its role within the overall system.\n",
    "2. **Inputs and Outputs**: Describe the inputs received and outputs generated by this block, including their types, formats, and expected ranges or constraints.\n",
    "3. **Functional Description**: Detail the specific functions and processes performed by the block, outlining key operations, decision logic, and any dependencies on other blocks.\n",
    "4. **Performance Requirements**: Define performance metrics or requirements, such as speed, latency, or throughput, that the block must meet.\n",
    "5. **Error Handling and Fault Tolerance**: Describe how the block handles errors or exceptions, including any recovery mechanisms or fault tolerance features.\n",
    "6. **Interfaces and Dependencies**: Outline connections with other blocks or systems, specifying any dependencies, protocols, and data exchanges.\n",
    "\n",
    "The final document should provide a complete, structured view of the functionality and technical requirements of each block, supporting a comprehensive understanding of the system's architecture and interactions.\n",
    "\"\"\"\n",
    "\n",
    "model_path = \"Yi-Coder-9B-Chat-Q4_K_M.gguf\" # путь к модели\n",
    "\n",
    "model = Llama(\n",
    "        model_path=model_path,\n",
    "        n_ctx=4000,\n",
    "        n_gpu_layers=-1,\n",
    "        n_parts=1,\n",
    "        verbose=False,\n",
    "    )\n",
    "\n",
    "\n",
    "#  функция для инференса\n",
    "def interact(\n",
    "    user_message,SYSTEM_PROMPT,\n",
    "    top_k=30,\n",
    "    top_p=0.9,\n",
    "    temperature=0.1, # регулирует на сколько модель лаконично отвечает\n",
    "    repeat_penalty=1.1\n",
    "    \n",
    "):\n",
    "\n",
    "    messages = [{\"role\": \"system\", \"content\": SYSTEM_PROMPT}]\n",
    "    messages.append({\"role\": \"user\", \"content\": user_message})\n",
    "    result = []\n",
    "    for part in model.create_chat_completion(\n",
    "            messages,\n",
    "            temperature=temperature,\n",
    "            top_k=top_k,\n",
    "            top_p=top_p,\n",
    "            repeat_penalty=repeat_penalty,\n",
    "            stream=True,\n",
    "        ):\n",
    "            delta = part[\"choices\"][0][\"delta\"]\n",
    "            if \"content\" in delta:\n",
    "                result.append(delta[\"content\"])\n",
    "                \n",
    "    return ''.join(result).strip()\n",
    "# interact(model_path)"
   ]
  },
  {
   "cell_type": "code",
   "execution_count": 3,
   "id": "18addbfa-fdb8-4c76-b06e-243724f64f2c",
   "metadata": {},
   "outputs": [
    {
     "data": {
      "text/plain": [
       "12"
      ]
     },
     "execution_count": 3,
     "metadata": {},
     "output_type": "execute_result"
    }
   ],
   "source": [
    "HMI_path = 'train data/HMI'  # путь к файлам UC\n",
    "SSTS_path = 'train data/SSTS' # путь к файлам SSTS\n",
    "\n",
    "HMI_fail = os.listdir(HMI_path)\n",
    "SSTS_fail = [f'SSTS-{os.path.splitext(f)[0][3:]}.docx' for f in os.listdir(HMI_path)]\n",
    "len(HMI_fail)"
   ]
  },
  {
   "cell_type": "code",
   "execution_count": 4,
   "id": "367e8352-c8e2-4703-a068-cb5cfb92abfb",
   "metadata": {},
   "outputs": [
    {
     "data": {
      "text/plain": [
       "'UC-26160.docx'"
      ]
     },
     "execution_count": 4,
     "metadata": {},
     "output_type": "execute_result"
    }
   ],
   "source": [
    "HMI_fail[11]"
   ]
  },
  {
   "cell_type": "code",
   "execution_count": 5,
   "id": "83d4ceaf-13ca-4b33-aa1a-0d4f0679fbeb",
   "metadata": {},
   "outputs": [
    {
     "data": {
      "text/plain": [
       "'SSTS-26160.docx'"
      ]
     },
     "execution_count": 5,
     "metadata": {},
     "output_type": "execute_result"
    }
   ],
   "source": [
    "SSTS_fail[11]"
   ]
  },
  {
   "cell_type": "code",
   "execution_count": 6,
   "id": "fa83fa03-aa6a-45fd-95a6-dc8e5825ac99",
   "metadata": {},
   "outputs": [],
   "source": [
    "def read_document(path):\n",
    "    doc = Document(path)\n",
    "    full_text = []\n",
    "    for para in doc.paragraphs:        \n",
    "        full_text.append(para.text)\n",
    "\n",
    "    full_text = '\\n'.join(full_text)\n",
    "    return full_text"
   ]
  },
  {
   "cell_type": "code",
   "execution_count": 7,
   "id": "c94accf4-cfe1-4eab-b739-edd301fbd775",
   "metadata": {},
   "outputs": [
    {
     "data": {
      "application/vnd.jupyter.widget-view+json": {
       "model_id": "07ae4a854a1c4f00a2db6d315655b8b6",
       "version_major": 2,
       "version_minor": 0
      },
      "text/plain": [
       "  0%|          | 0/12 [00:00<?, ?it/s]"
      ]
     },
     "metadata": {},
     "output_type": "display_data"
    },
    {
     "name": "stdout",
     "output_type": "stream",
     "text": [
      "Ошибка при обработке UC-25957.docx и SSTS-25957.docx: unterminated string literal (detected at line 5) (<unknown>, line 5)\n",
      "Ошибка при обработке UC-25957.docx и SSTS-25957.docx: invalid syntax (<unknown>, line 5)\n",
      "Ошибка при обработке UC-8800.docx и SSTS-8800.docx: invalid syntax (<unknown>, line 1)\n"
     ]
    },
    {
     "data": {
      "text/html": [
       "<div>\n",
       "<style scoped>\n",
       "    .dataframe tbody tr th:only-of-type {\n",
       "        vertical-align: middle;\n",
       "    }\n",
       "\n",
       "    .dataframe tbody tr th {\n",
       "        vertical-align: top;\n",
       "    }\n",
       "\n",
       "    .dataframe thead th {\n",
       "        text-align: right;\n",
       "    }\n",
       "</style>\n",
       "<table border=\"1\" class=\"dataframe\">\n",
       "  <thead>\n",
       "    <tr style=\"text-align: right;\">\n",
       "      <th></th>\n",
       "      <th>Name</th>\n",
       "      <th>Differences</th>\n",
       "      <th>Description</th>\n",
       "      <th>Compliance Level</th>\n",
       "      <th>Number</th>\n",
       "    </tr>\n",
       "  </thead>\n",
       "  <tbody>\n",
       "    <tr>\n",
       "      <th>0</th>\n",
       "      <td>UC 25957: Mute/unmute the FM Radio playback</td>\n",
       "      <td>The SSTS does not explicitly address user inte...</td>\n",
       "      <td>UC - User interaction via in_2/in_5 button and...</td>\n",
       "      <td>PC</td>\n",
       "      <td>25957</td>\n",
       "    </tr>\n",
       "    <tr>\n",
       "      <th>0</th>\n",
       "      <td>UC-28561: Setting Hotspot name &amp; password</td>\n",
       "      <td>The SSTS describes a general function that use...</td>\n",
       "      <td>UC - Key requirements: Users can modify the ho...</td>\n",
       "      <td>PC</td>\n",
       "      <td>28561</td>\n",
       "    </tr>\n",
       "    <tr>\n",
       "      <th>0</th>\n",
       "      <td>UC Example Document</td>\n",
       "      <td>SSTS doesn't mention the 'Add to Favorites' fe...</td>\n",
       "      <td>UC - User wants to add internet radio station ...</td>\n",
       "      <td>PC</td>\n",
       "      <td>31523</td>\n",
       "    </tr>\n",
       "    <tr>\n",
       "      <th>0</th>\n",
       "      <td>UC-6583 Driver Initiate a Call through SWP</td>\n",
       "      <td>The SSTS document does not provide details on ...</td>\n",
       "      <td>UC - The system should support voice commands ...</td>\n",
       "      <td>LC</td>\n",
       "      <td>6583</td>\n",
       "    </tr>\n",
       "    <tr>\n",
       "      <th>0</th>\n",
       "      <td>UC-11467 Revoke Access to Vehicle</td>\n",
       "      <td>SSTS does not clearly align with the UC in ter...</td>\n",
       "      <td>UC - The owner needs to revoke access for othe...</td>\n",
       "      <td>LC</td>\n",
       "      <td>11467</td>\n",
       "    </tr>\n",
       "    <tr>\n",
       "      <th>0</th>\n",
       "      <td>Turn on and off hotspot via VA</td>\n",
       "      <td>Key differences include: in the Use Case (UC),...</td>\n",
       "      <td>UC - Users can turn on or off the vehicle hots...</td>\n",
       "      <td>LC</td>\n",
       "      <td>26771</td>\n",
       "    </tr>\n",
       "    <tr>\n",
       "      <th>0</th>\n",
       "      <td>UC_I-8800_Receiving Call Notifications</td>\n",
       "      <td>The SSTS does not provide exact description of...</td>\n",
       "      <td>UC - The system should notify about an incomin...</td>\n",
       "      <td>LC</td>\n",
       "      <td>8800</td>\n",
       "    </tr>\n",
       "    <tr>\n",
       "      <th>0</th>\n",
       "      <td>UC Example Document</td>\n",
       "      <td>In the UC it's clearly stated that media sourc...</td>\n",
       "      <td>UC - User selects multimedia via in_5 or in_2/...</td>\n",
       "      <td>LC</td>\n",
       "      <td>8604</td>\n",
       "    </tr>\n",
       "    <tr>\n",
       "      <th>0</th>\n",
       "      <td>Emergency Service Communication (ERA-Glonass)</td>\n",
       "      <td>Key differences include the use of the SOS but...</td>\n",
       "      <td>UC - Key requirements such as automatic volume...</td>\n",
       "      <td>LC</td>\n",
       "      <td>8692</td>\n",
       "    </tr>\n",
       "    <tr>\n",
       "      <th>0</th>\n",
       "      <td>ERA Self-diagnosis</td>\n",
       "      <td>The SSTS document does not explicitly mention ...</td>\n",
       "      <td>UC - The system must perform self-diagnosis ev...</td>\n",
       "      <td>LC</td>\n",
       "      <td>30371</td>\n",
       "    </tr>\n",
       "    <tr>\n",
       "      <th>0</th>\n",
       "      <td>UC_Radio_Station_Switching</td>\n",
       "      <td>SSTS does not cover all the requirements outli...</td>\n",
       "      <td>UC - Requires support for searching radio stat...</td>\n",
       "      <td>LC</td>\n",
       "      <td>26161</td>\n",
       "    </tr>\n",
       "    <tr>\n",
       "      <th>0</th>\n",
       "      <td>[[I-26160]  Filtering the internet radio stati...</td>\n",
       "      <td>[ssts hasn't info about this]</td>\n",
       "      <td>[-]</td>\n",
       "      <td>[NA]</td>\n",
       "      <td>26160</td>\n",
       "    </tr>\n",
       "  </tbody>\n",
       "</table>\n",
       "</div>"
      ],
      "text/plain": [
       "                                                Name  \\\n",
       "0        UC 25957: Mute/unmute the FM Radio playback   \n",
       "0          UC-28561: Setting Hotspot name & password   \n",
       "0                                UC Example Document   \n",
       "0         UC-6583 Driver Initiate a Call through SWP   \n",
       "0                  UC-11467 Revoke Access to Vehicle   \n",
       "0                     Turn on and off hotspot via VA   \n",
       "0             UC_I-8800_Receiving Call Notifications   \n",
       "0                                UC Example Document   \n",
       "0      Emergency Service Communication (ERA-Glonass)   \n",
       "0                                 ERA Self-diagnosis   \n",
       "0                         UC_Radio_Station_Switching   \n",
       "0  [[I-26160]  Filtering the internet radio stati...   \n",
       "\n",
       "                                         Differences  \\\n",
       "0  The SSTS does not explicitly address user inte...   \n",
       "0  The SSTS describes a general function that use...   \n",
       "0  SSTS doesn't mention the 'Add to Favorites' fe...   \n",
       "0  The SSTS document does not provide details on ...   \n",
       "0  SSTS does not clearly align with the UC in ter...   \n",
       "0  Key differences include: in the Use Case (UC),...   \n",
       "0  The SSTS does not provide exact description of...   \n",
       "0  In the UC it's clearly stated that media sourc...   \n",
       "0  Key differences include the use of the SOS but...   \n",
       "0  The SSTS document does not explicitly mention ...   \n",
       "0  SSTS does not cover all the requirements outli...   \n",
       "0                      [ssts hasn't info about this]   \n",
       "\n",
       "                                         Description Compliance Level Number  \n",
       "0  UC - User interaction via in_2/in_5 button and...               PC  25957  \n",
       "0  UC - Key requirements: Users can modify the ho...               PC  28561  \n",
       "0  UC - User wants to add internet radio station ...               PC  31523  \n",
       "0  UC - The system should support voice commands ...               LC   6583  \n",
       "0  UC - The owner needs to revoke access for othe...               LC  11467  \n",
       "0  UC - Users can turn on or off the vehicle hots...               LC  26771  \n",
       "0  UC - The system should notify about an incomin...               LC   8800  \n",
       "0  UC - User selects multimedia via in_5 or in_2/...               LC   8604  \n",
       "0  UC - Key requirements such as automatic volume...               LC   8692  \n",
       "0  UC - The system must perform self-diagnosis ev...               LC  30371  \n",
       "0  UC - Requires support for searching radio stat...               LC  26161  \n",
       "0                                                [-]             [NA]  26160  "
      ]
     },
     "execution_count": 7,
     "metadata": {},
     "output_type": "execute_result"
    }
   ],
   "source": [
    "#Генерируем датафрейм\n",
    "df=pd.DataFrame()\n",
    "for HMI, SSTS in zip(tqdm(HMI_fail), SSTS_fail):\n",
    "    \n",
    "    path1 = f'{HMI_path}/{HMI}'\n",
    "    path2 = f'{SSTS_path}/{SSTS}'\n",
    "\n",
    "    # Проверяем наличие SSTS\n",
    "    if not os.path.exists(path2):\n",
    "        data = {\n",
    "                'Number': os.path.splitext(HMI)[0][3:],\n",
    "                'Name': [Document(path1).paragraphs[0].text],\n",
    "                'Differences': [\"ssts hasn't info about this\"],\n",
    "                'Description': ['-'],\n",
    "                'Compliance Level': ['NA']\n",
    "            }\n",
    "        df = pd.concat([df, pd.DataFrame([data])])\n",
    "        continue\n",
    "        \n",
    "    text1 = read_document(path1)\n",
    "    text2 = read_document(path2)\n",
    "\n",
    "    while True:  #Цикл до успешного выполнения заданного выхода модели\n",
    "        try:\n",
    "            # text1 = interact(text1, SYSTEM_PROMPT_UC)\n",
    "            # text2 = interact(text1, SYSTEM_PROMPT_SSTS)\n",
    "            res = interact(f'text1: {text1}\\n\\n\\ntext2: {text2}', SYSTEM_PROMPT)\n",
    "            cleaned_text = res.strip('```python\\n').strip('\\n```')\n",
    "            data = ast.literal_eval(cleaned_text)\n",
    "            data['Number'] = os.path.splitext(HMI)[0][3:]\n",
    "            df = pd.concat([df, pd.DataFrame([data])])\n",
    "            break  # Если всё прошло успешно, выходим из цикла\n",
    "        except Exception as e:\n",
    "            print(f\"Ошибка при обработке {HMI} и {SSTS}: {e}\")\n",
    "df"
   ]
  },
  {
   "cell_type": "code",
   "execution_count": 8,
   "id": "80b0f3a7-66cd-471e-9bc7-077161b40a8f",
   "metadata": {},
   "outputs": [],
   "source": [
    "df = df.rename(columns={'Compliance Level': 'Complience Level'})\n",
    "df['Complience Level'] = df['Complience Level'].apply(lambda x: x[0] if type(x) == list else x)\n",
    "df['Number'] = df['Number'].astype(int)"
   ]
  },
  {
   "cell_type": "code",
   "execution_count": 9,
   "id": "ac9843e4-3d24-4b02-86ff-91114e31e077",
   "metadata": {},
   "outputs": [],
   "source": [
    "gt = pd.read_excel('train data/train_data_markup.xlsx', keep_default_na=False)"
   ]
  },
  {
   "cell_type": "code",
   "execution_count": 10,
   "id": "65d3bc8a-9ac5-4edb-a473-f39a925fb1ea",
   "metadata": {},
   "outputs": [],
   "source": [
    "from sklearn.metrics import mean_squared_error\n",
    "def calc_score(gt, sub):\n",
    "  sub = sub.drop_duplicates(subset='Number', keep='last')\n",
    "\n",
    "  mapping = {'FC': 1, 'LC': 2, 'PC': 3, 'NC': 4, 'NA': 5}\n",
    "  gt['категории_числа'] = gt['Complience Level'].map(mapping)\n",
    "  sub['категории_числа'] = sub['Complience Level'].map(mapping)\n",
    "\n",
    "\n",
    "  merge_df = pd.merge(gt, sub, on='Number', how='left')\n",
    "  merge_df['категории_числа_y'] = merge_df['категории_числа_y'].fillna(mapping['NA'])\n",
    "  mse = mean_squared_error(merge_df['категории_числа_x'], merge_df['категории_числа_y'])\n",
    "\n",
    "  score = max(0, 1.5-mse)/1.5\n",
    "  print(mse)\n",
    "\n",
    "  return score\n"
   ]
  },
  {
   "cell_type": "code",
   "execution_count": 11,
   "id": "531d9164-278a-41c8-a7d2-144249498515",
   "metadata": {},
   "outputs": [
    {
     "name": "stdout",
     "output_type": "stream",
     "text": [
      "0.9166666666666666\n"
     ]
    },
    {
     "data": {
      "text/plain": [
       "0.3888888888888889"
      ]
     },
     "execution_count": 11,
     "metadata": {},
     "output_type": "execute_result"
    }
   ],
   "source": [
    "calc_score(gt, df)"
   ]
  },
  {
   "cell_type": "markdown",
   "id": "34db8d61-c414-4f82-8a31-04ff4ba31c35",
   "metadata": {},
   "source": [
    "\"mathstral-7B-v0.1-Q4_K_M.gguf\" - 0.22222222222222218 temperature=0.5\n",
    "\n",
    "\"Yi-Coder-9B-Chat-Q4_K_M.gguf\" - 0.3333333333333333 temperature=0.5"
   ]
  },
  {
   "cell_type": "code",
   "execution_count": null,
   "id": "d3f90b41-158f-4dfd-84cb-270ca14dda80",
   "metadata": {},
   "outputs": [],
   "source": []
  },
  {
   "cell_type": "code",
   "execution_count": null,
   "id": "4fc42205-e79c-442e-a9b6-4005552b9027",
   "metadata": {},
   "outputs": [],
   "source": []
  },
  {
   "cell_type": "code",
   "execution_count": null,
   "id": "e45a0185-02ba-4a37-bdc2-60d7dfd312b0",
   "metadata": {},
   "outputs": [],
   "source": []
  }
 ],
 "metadata": {
  "kernelspec": {
   "display_name": "Python 3 (ipykernel)",
   "language": "python",
   "name": "python3"
  },
  "language_info": {
   "codemirror_mode": {
    "name": "ipython",
    "version": 3
   },
   "file_extension": ".py",
   "mimetype": "text/x-python",
   "name": "python",
   "nbconvert_exporter": "python",
   "pygments_lexer": "ipython3",
   "version": "3.10.12"
  },
  "widgets": {
   "application/vnd.jupyter.widget-state+json": {
    "state": {
     "07ae4a854a1c4f00a2db6d315655b8b6": {
      "model_module": "@jupyter-widgets/controls",
      "model_module_version": "2.0.0",
      "model_name": "HBoxModel",
      "state": {
       "children": [
        "IPY_MODEL_487e71e7ee1848e7bf2f5c8103255805",
        "IPY_MODEL_7182b7ba4b084355b2fee3b2f14a401d",
        "IPY_MODEL_1d75d53472cf4dbb84fdf2c174e68873"
       ],
       "layout": "IPY_MODEL_bafc5fecc2d84913b24b00a13bd8af5e"
      }
     },
     "1d75d53472cf4dbb84fdf2c174e68873": {
      "model_module": "@jupyter-widgets/controls",
      "model_module_version": "2.0.0",
      "model_name": "HTMLModel",
      "state": {
       "layout": "IPY_MODEL_7757b5e432064dd68ff06e7de72dc8c2",
       "style": "IPY_MODEL_9554c7715f9a4efb96d6bb664e3df102",
       "value": " 12/12 [14:48&lt;00:00, 69.14s/it]"
      }
     },
     "487e71e7ee1848e7bf2f5c8103255805": {
      "model_module": "@jupyter-widgets/controls",
      "model_module_version": "2.0.0",
      "model_name": "HTMLModel",
      "state": {
       "layout": "IPY_MODEL_68f7c26683834e07a62d32f259b1ec9f",
       "style": "IPY_MODEL_a8c86c2886124836aaca96e95307a7a2",
       "value": "100%"
      }
     },
     "4da86f5bba704578ba84e0f1dc086685": {
      "model_module": "@jupyter-widgets/controls",
      "model_module_version": "2.0.0",
      "model_name": "ProgressStyleModel",
      "state": {
       "description_width": ""
      }
     },
     "68f7c26683834e07a62d32f259b1ec9f": {
      "model_module": "@jupyter-widgets/base",
      "model_module_version": "2.0.0",
      "model_name": "LayoutModel",
      "state": {}
     },
     "7182b7ba4b084355b2fee3b2f14a401d": {
      "model_module": "@jupyter-widgets/controls",
      "model_module_version": "2.0.0",
      "model_name": "FloatProgressModel",
      "state": {
       "bar_style": "success",
       "layout": "IPY_MODEL_72447367dcb54afcb25c5c9a057976e0",
       "max": 12,
       "style": "IPY_MODEL_4da86f5bba704578ba84e0f1dc086685",
       "value": 12
      }
     },
     "72447367dcb54afcb25c5c9a057976e0": {
      "model_module": "@jupyter-widgets/base",
      "model_module_version": "2.0.0",
      "model_name": "LayoutModel",
      "state": {}
     },
     "7757b5e432064dd68ff06e7de72dc8c2": {
      "model_module": "@jupyter-widgets/base",
      "model_module_version": "2.0.0",
      "model_name": "LayoutModel",
      "state": {}
     },
     "9554c7715f9a4efb96d6bb664e3df102": {
      "model_module": "@jupyter-widgets/controls",
      "model_module_version": "2.0.0",
      "model_name": "HTMLStyleModel",
      "state": {
       "description_width": "",
       "font_size": null,
       "text_color": null
      }
     },
     "a8c86c2886124836aaca96e95307a7a2": {
      "model_module": "@jupyter-widgets/controls",
      "model_module_version": "2.0.0",
      "model_name": "HTMLStyleModel",
      "state": {
       "description_width": "",
       "font_size": null,
       "text_color": null
      }
     },
     "bafc5fecc2d84913b24b00a13bd8af5e": {
      "model_module": "@jupyter-widgets/base",
      "model_module_version": "2.0.0",
      "model_name": "LayoutModel",
      "state": {}
     }
    },
    "version_major": 2,
    "version_minor": 0
   }
  }
 },
 "nbformat": 4,
 "nbformat_minor": 5
}
